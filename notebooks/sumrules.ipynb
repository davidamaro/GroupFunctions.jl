{
 "cells": [
  {
   "cell_type": "markdown",
   "metadata": {},
   "source": [
    "El objetivo es poner el test que esta en jamboard en Julia, para ponerlo despues en `runtests.jl`"
   ]
  },
  {
   "cell_type": "markdown",
   "metadata": {},
   "source": [
    "1. calcular las matrices\n",
    "2. obtener el permanetne\n",
    "3. sumar las tasas"
   ]
  },
  {
   "cell_type": "code",
   "execution_count": 2,
   "metadata": {},
   "outputs": [],
   "source": [
    "using GroupFunctions"
   ]
  },
  {
   "cell_type": "code",
   "execution_count": 3,
   "metadata": {},
   "outputs": [],
   "source": [
    "using RandomMatrices"
   ]
  },
  {
   "cell_type": "code",
   "execution_count": 4,
   "metadata": {},
   "outputs": [],
   "source": [
    "using Immanants"
   ]
  },
  {
   "cell_type": "code",
   "execution_count": 5,
   "metadata": {},
   "outputs": [
    {
     "data": {
      "text/plain": [
       "transformacion (generic function with 1 method)"
      ]
     },
     "execution_count": 5,
     "metadata": {},
     "output_type": "execute_result"
    }
   ],
   "source": [
    "function transformacion(mat)\n",
    "    n,_ = size(mat)\n",
    "    for i in 2:n\n",
    "        mat[i,i-1] = -mat[i,i-1]\n",
    "    end\n",
    "    mat\n",
    "end"
   ]
  },
  {
   "cell_type": "markdown",
   "metadata": {},
   "source": [
    "## generar matrices unitarias"
   ]
  },
  {
   "cell_type": "code",
   "execution_count": 6,
   "metadata": {},
   "outputs": [
    {
     "data": {
      "text/plain": [
       "2×2 Array{Complex{Float64},2}:\n",
       "  0.384019-0.354167im   0.69438+0.494906im\n",
       " -0.692322+0.497781im  0.385484+0.352571im"
      ]
     },
     "execution_count": 6,
     "metadata": {},
     "output_type": "execute_result"
    }
   ],
   "source": [
    "u1₁ = rand(Haar(2), 2)\n",
    "u2₁ = rand(Haar(2), 2)\n",
    "u3₁ = rand(Haar(2), 2)"
   ]
  },
  {
   "cell_type": "code",
   "execution_count": 7,
   "metadata": {},
   "outputs": [
    {
     "data": {
      "text/plain": [
       "2×2 Array{Complex{Float64},2}:\n",
       " -0.291467-0.363079im  -0.756523-0.459232im\n",
       "  0.800854+0.376635im  -0.463678-0.0422182im"
      ]
     },
     "execution_count": 7,
     "metadata": {},
     "output_type": "execute_result"
    }
   ],
   "source": [
    "u1 = zeros(Complex{Float64}, 3,3)\n",
    "u1[1,1] = 1\n",
    "u1[2:3,2:3] = u1₁"
   ]
  },
  {
   "cell_type": "code",
   "execution_count": 8,
   "metadata": {},
   "outputs": [
    {
     "data": {
      "text/plain": [
       "2×2 Array{Complex{Float64},2}:\n",
       " 0.298954+0.806458im  0.151223-0.487221im\n",
       "  0.45432-0.232048im   0.84561+0.157136im"
      ]
     },
     "execution_count": 8,
     "metadata": {},
     "output_type": "execute_result"
    }
   ],
   "source": [
    "u2 = zeros(Complex{Float64}, 3,3)\n",
    "u2[3,3] = 1\n",
    "u2[1:2,1:2] = u2₁"
   ]
  },
  {
   "cell_type": "code",
   "execution_count": 9,
   "metadata": {},
   "outputs": [
    {
     "data": {
      "text/plain": [
       "2×2 Array{Complex{Float64},2}:\n",
       "  0.384019-0.354167im   0.69438+0.494906im\n",
       " -0.692322+0.497781im  0.385484+0.352571im"
      ]
     },
     "execution_count": 9,
     "metadata": {},
     "output_type": "execute_result"
    }
   ],
   "source": [
    "u3 = zeros(Complex{Float64}, 3,3)\n",
    "u3[1,1] = 1\n",
    "u3[2:3,2:3] = u3₁"
   ]
  },
  {
   "cell_type": "markdown",
   "metadata": {},
   "source": [
    "## Idea Original"
   ]
  },
  {
   "cell_type": "code",
   "execution_count": 10,
   "metadata": {},
   "outputs": [
    {
     "data": {
      "text/latex": [
       "0 . 6 0 0 6 1 1 9 7 1 1 2 8 2 8 4 5 1 0 3 1 2 8 3 2 2 2 4 0 8 9 8 4 3 9 6 9 5 7 6 4 5 8 5 3 5 9 1 6 5 7 9 8 6 8 8 9 2 9 6 7 2 0 2 9 9 2 5 1 0 9 6 4 0 8 2 7 8 6 8"
      ],
      "text/plain": [
       "0.6006119711282845103128322240898439695764585359165798688929672029925109640827868"
      ]
     },
     "execution_count": 10,
     "metadata": {},
     "output_type": "execute_result"
    }
   ],
   "source": [
    "abs(immanant(Partition([2]), (u1*u2*u3)[[1,2], [1,2]]))^2 + abs(immanant(Partition([2]), (u1*u2*u3)[[1,3], [1,2]]))^2"
   ]
  },
  {
   "cell_type": "code",
   "execution_count": 11,
   "metadata": {},
   "outputs": [
    {
     "data": {
      "text/latex": [
       "0 . 6 0 0 6 1 1 9 7 1 1 2 8 2 8 4 5 6 0 7 3 2 7 5 6 7 0 9 9 4 7 4 7 7 0 7 2 1 9 4 8 0 9 9 6 1 9 8 7 9 9 6 5 3 5 2 4 6 5 5 5 2 4 9 4 8 2 7 7 4 4 4 2 5 8 2 0 4 4 8"
      ],
      "text/plain": [
       "0.6006119711282845607327567099474770721948099619879965352465552494827744425820448"
      ]
     },
     "execution_count": 11,
     "metadata": {},
     "output_type": "execute_result"
    }
   ],
   "source": [
    "abs(immanant(Partition([2]), (#=u1*=#u2*u3)[[1,2], [1,2]]))^2 + abs(immanant(Partition([2]), (#=u1*=#u2*u3)[[1,3], [1,2]]))^2"
   ]
  },
  {
   "cell_type": "code",
   "execution_count": 12,
   "metadata": {},
   "outputs": [
    {
     "data": {
      "text/latex": [
       "0 . 6 0 0 6 1 1 9 7 1 1 2 8 2 8 4 5 6 0 7 3 2 7 5 6 7 0 9 9 4 7 4 7 7 0 7 2 1 9 4 8 0 9 9 6 1 9 8 7 9 9 6 5 3 5 2 4 6 5 5 5 2 4 9 4 8 2 7 7 4 4 4 2 5 8 2 0 4 4 8"
      ],
      "text/plain": [
       "0.6006119711282845607327567099474770721948099619879965352465552494827744425820448"
      ]
     },
     "execution_count": 12,
     "metadata": {},
     "output_type": "execute_result"
    }
   ],
   "source": [
    "abs(immanant(Partition([1,1]), transformacion(#=u1*=#u2*u3)[[1,2], [1,2]]))^2 + abs(immanant(Partition([1,1]), transformacion(#=u1*=#u2*u3)[[1,3], [1,2]]))^2"
   ]
  },
  {
   "cell_type": "code",
   "execution_count": 14,
   "metadata": {},
   "outputs": [
    {
     "data": {
      "text/latex": [
       "0 . 6 0 0 6 1 1 9 7 1 1 2 8 2 8 4 5 6 0 7 3 2 7 5 6 7 0 9 9 4 7 4 7 7 0 7 2 1 9 4 8 0 9 9 6 1 9 8 7 9 9 6 5 3 5 2 4 6 5 5 5 2 4 9 4 8 2 7 7 4 4 4 2 5 8 2 0 4 4 8"
      ],
      "text/plain": [
       "0.6006119711282845607327567099474770721948099619879965352465552494827744425820448"
      ]
     },
     "execution_count": 14,
     "metadata": {},
     "output_type": "execute_result"
    }
   ],
   "source": [
    "abs(immanant(Partition([1,1]), transformacion(#=u1*=#(u2*u3)[[1,2], [1,2]])))^2 + abs(immanant(Partition([1,1]), transformacion(#=u1*=#(u2*u3)[[1,3], [1,2]])))^2"
   ]
  },
  {
   "cell_type": "code",
   "execution_count": 15,
   "metadata": {},
   "outputs": [
    {
     "data": {
      "text/latex": [
       "0 . 6 0 0 6 1 1 9 7 1 1 2 8 2 8 4 5 6 0 7 3 2 7 5 6 7 0 9 9 4 7 4 7 7 0 7 2 1 9 4 8 0 9 9 6 1 9 8 7 9 9 6 5 3 5 2 4 6 5 5 5 2 4 9 4 8 2 7 7 4 4 4 2 5 8 2 0 4 4 8"
      ],
      "text/plain": [
       "0.6006119711282845607327567099474770721948099619879965352465552494827744425820448"
      ]
     },
     "execution_count": 15,
     "metadata": {},
     "output_type": "execute_result"
    }
   ],
   "source": [
    "p1=abs(immanant(Partition([1,1]), transformacion(#=u1*=#u2*u3)[[1,2], [1,2]]))^2 + abs(immanant(Partition([1,1]), transformacion(#=u1*=#u2*u3)[[1,3], [1,2]]))^2"
   ]
  },
  {
   "cell_type": "markdown",
   "metadata": {},
   "source": [
    "We have the rate $R(12\\to23) + 0.5 R(12\\to22) + 0.5 R(12\\to33) $"
   ]
  },
  {
   "cell_type": "code",
   "execution_count": 18,
   "metadata": {},
   "outputs": [
    {
     "data": {
      "text/latex": [
       "0 . 2 9 4 3 0 8 2 4 1 5 7 8 9 7 0 9 8 9 4 3 2 5 7 7 8 3 8 2 2 8 6 8 2 4 3 9 0 2 4 1 2 4 9 4 0 4 4 9 2 8 2 7 7 7 7 0 5 1 6 1 8 1 1 5 0 3 9 5 1 3 9 7 8 8 9 9 1 6 6"
      ],
      "text/plain": [
       "0.2943082415789709894325778382286824390241249404492827777051618115039513978899166"
      ]
     },
     "execution_count": 18,
     "metadata": {},
     "output_type": "execute_result"
    }
   ],
   "source": [
    "abs(immanant(Partition([2]), (u1*u2*u3)[[2,3], [1,2]]))^2+ 0.5*abs(immanant(Partition([2]), (u1*u2*u3)[[2,2], [1,2]]))^2+ 0.5*abs(immanant(Partition([2]), (u1*u2*u3)[[3,3], [1,2]]))^2"
   ]
  },
  {
   "cell_type": "code",
   "execution_count": 24,
   "metadata": {},
   "outputs": [
    {
     "data": {
      "text/latex": [
       "0 . 2 9 4 3 0 8 2 4 1 5 7 8 9 7 0 9 9 9 3 7 0 2 7 8 5 4 3 5 4 4 8 3 5 7 9 6 3 1 9 3 0 6 1 8 6 9 5 5 6 2 4 8 4 6 9 5 0 8 3 8 7 2 6 1 8 0 8 9 4 1 8 3 7 1 4 8 9 7 8"
      ],
      "text/plain": [
       "0.2943082415789709993702785435448357963193061869556248469508387261808941837148978"
      ]
     },
     "execution_count": 24,
     "metadata": {},
     "output_type": "execute_result"
    }
   ],
   "source": [
    "p2 = abs(immanant(Partition([2]), (#=u1*=#u2*u3)[[2,3], [1,2]]))^2+ 0.5*abs(immanant(Partition([2]), (#=u1*=#u2*u3)[[2,2], [1,2]]))^2+ 0.5*abs(immanant(Partition([2]), (#=u1*=#u2*u3)[[3,3], [1,2]]))^2"
   ]
  },
  {
   "cell_type": "markdown",
   "metadata": {},
   "source": [
    "So, we have the possibility of using the previous rate plus this one. The remaining could be added."
   ]
  },
  {
   "cell_type": "markdown",
   "metadata": {},
   "source": [
    "We have the rate $R(12\\to23) + 0.5 R(12\\to22) + 0.5 R(12\\to33) + 0.5 R(12\\to11)$"
   ]
  },
  {
   "cell_type": "code",
   "execution_count": 22,
   "metadata": {},
   "outputs": [
    {
     "data": {
      "text/latex": [
       "0 . 3 9 9 3 8 8 0 2 8 8 7 1 7 1 5 9 0 6 5 8 6 4 5 6 8 7 1 3 1 1 0 3 4 0 9 7 7 7 6 3 1 9 1 8 8 2 0 7 6 6 8 7 9 1 2 6 4 5 8 6 2 7 7 5 7 0 2 1 2 2 7 4 8 8 9 9 8 2 5"
      ],
      "text/plain": [
       "0.3993880288717159065864568713110340977763191882076687912645862775702122748899825"
      ]
     },
     "execution_count": 22,
     "metadata": {},
     "output_type": "execute_result"
    }
   ],
   "source": [
    "abs(immanant(Partition([2]), (u2*u3)[[2,3], [1,2]]))^2+0.5*(abs(immanant(Partition([2]), (u2*u3)[[1,1], [1,2]]))^2+ abs(immanant(Partition([2]), (u2*u3)[[2,2], [1,2]]))^2+ abs(immanant(Partition([2]), (u2*u3)[[3,3], [1,2]]))^2)"
   ]
  },
  {
   "cell_type": "code",
   "execution_count": 25,
   "metadata": {},
   "outputs": [
    {
     "data": {
      "text/latex": [
       "0 . 3 9 9 3 8 8 0 2 8 8 7 1 7 1 5 9 0 6 5 8 6 4 5 6 8 7 1 3 1 1 0 3 4 0 9 7 7 7 6 3 1 9 1 8 8 2 0 7 6 6 8 7 9 1 2 6 4 5 8 6 2 7 7 5 7 0 2 1 2 2 7 4 8 8 9 9 8 2 5"
      ],
      "text/plain": [
       "0.3993880288717159065864568713110340977763191882076687912645862775702122748899825"
      ]
     },
     "execution_count": 25,
     "metadata": {},
     "output_type": "execute_result"
    }
   ],
   "source": [
    "p3 = abs(immanant(Partition([1,1]), transformacion((u2*u3)[[2,3], [1,2]])))^2 +0.5*(abs(immanant(Partition([1,1]), transformacion((u2*u3)[[1,1], [1,2]])))^2 + abs(immanant(Partition([1,1]), transformacion((u2*u3)[[2,2], [1,2]])))^2 + abs(immanant(Partition([1,1]), transformacion((u2*u3)[[3,3], [1,2]])))^2)"
   ]
  },
  {
   "cell_type": "markdown",
   "metadata": {},
   "source": [
    "Testing that it's a probability distribution"
   ]
  },
  {
   "cell_type": "code",
   "execution_count": 28,
   "metadata": {},
   "outputs": [
    {
     "data": {
      "text/latex": [
       "1 . 0 0 0 0 0 0 0 0 0 0 0 0 0 0 0 4 6 7 3 1 9 2 1 3 5 8 1 2 5 8 5 1 1 1 6 9 9 7 1 1 2 9 1 5 0 1 9 5 6 6 5 3 2 6 5 1 1 1 4 1 5 2 7 0 5 2 9 8 6 7 1 7 4 7 2 0 2 7"
      ],
      "text/plain": [
       "1.000000000000000467319213581258511169971129150195665326511141527052986717472027"
      ]
     },
     "execution_count": 28,
     "metadata": {},
     "output_type": "execute_result"
    }
   ],
   "source": [
    "p1 + #= p2 + =# p3"
   ]
  },
  {
   "cell_type": "markdown",
   "metadata": {},
   "source": [
    "## Idea alternativa"
   ]
  },
  {
   "cell_type": "code",
   "execution_count": 10,
   "metadata": {},
   "outputs": [
    {
     "data": {
      "text/plain": [
       "3×3 Array{Int64,2}:\n",
       " 0  1  0\n",
       " 1  0  0\n",
       " 0  0  1"
      ]
     },
     "execution_count": 10,
     "metadata": {},
     "output_type": "execute_result"
    }
   ],
   "source": [
    "p₁₃=[0 0 1; 0 1 0; 1 0 0]\n",
    "p₁₂=[0 1 0; 1 0 0; 0 0 1]"
   ]
  },
  {
   "cell_type": "code",
   "execution_count": 11,
   "metadata": {},
   "outputs": [
    {
     "data": {
      "text/plain": [
       "3×3 Array{Int64,2}:\n",
       " 0  0  1\n",
       " 0  1  0\n",
       " 1  0  0"
      ]
     },
     "execution_count": 11,
     "metadata": {},
     "output_type": "execute_result"
    }
   ],
   "source": [
    "p₁₃"
   ]
  },
  {
   "cell_type": "markdown",
   "metadata": {},
   "source": [
    "Primer tasa"
   ]
  },
  {
   "cell_type": "code",
   "execution_count": 13,
   "metadata": {},
   "outputs": [
    {
     "data": {
      "text/latex": [
       "0 . 5 2 1 9 7 5 2 9 2 9 7 5 6 4 3 1 6 7 4 6 3 2 2 2 6 4 9 8 2 0 1 4 3 8 6 2 4 5 3 4 2 0 3 8 0 8 0 3 6 6 9 1 1 0 1 7 4 3 0 1 6 1 0 9 8 2 3 3 7 8 3 9 5 9 6 2 6 7 9"
      ],
      "text/plain": [
       "0.5219752929756431674632226498201438624534203808036691101743016109823378395962679"
      ]
     },
     "execution_count": 13,
     "metadata": {},
     "output_type": "execute_result"
    }
   ],
   "source": [
    "abs(immanant(Partition([2]), (u1*u2*u3)[[1,2], [1,2]]))^2 + abs(immanant(Partition([2]), (u1*u2*u3)[[1,3], [1,2]]))^2"
   ]
  },
  {
   "cell_type": "code",
   "execution_count": 14,
   "metadata": {},
   "outputs": [
    {
     "data": {
      "text/latex": [
       "0 . 5 2 1 9 7 5 2 9 2 9 7 5 6 4 3 1 0 4 9 6 1 4 5 0 5 7 5 1 2 3 0 9 0 1 1 7 3 9 2 6 4 9 1 9 0 2 8 9 6 7 3 2 3 2 0 7 0 4 2 6 8 8 3 6 8 6 7 6 7 3 2 7 0 5 4 3 7 6 4"
      ],
      "text/plain": [
       "0.5219752929756431049614505751230901173926491902896732320704268836867673270543764"
      ]
     },
     "execution_count": 14,
     "metadata": {},
     "output_type": "execute_result"
    }
   ],
   "source": [
    "abs(immanant(Partition([2]), (#=u1*=#u2*u3)[[1,2], [1,2]]))^2 + abs(immanant(Partition([2]), (#=u1*=#u2*u3)[[1,3], [1,2]]))^2"
   ]
  },
  {
   "cell_type": "code",
   "execution_count": 117,
   "metadata": {},
   "outputs": [
    {
     "data": {
      "text/latex": [
       "0 . 1 9 1 0 9 0 5 2 4 4 6 0 9 9 5 4 0 9 6 5 8 8 9 1 0 9 8 8 6 2 7 4 1 9 7 2 7 5 5 5 3 1 1 7 0 2 2 7 5 1 2 1 8 3 1 3 1 5 8 2 0 5 0 4 7 8 4 1 3 4 7 1 2 6 2 0 4 3"
      ],
      "text/plain": [
       "0.191090524460995409658891098862741972755531170227512183131582050478413471262043"
      ]
     },
     "execution_count": 117,
     "metadata": {},
     "output_type": "execute_result"
    }
   ],
   "source": [
    "abs(immanant(Partition([1,1]), transformacion(#=u1*=#u2*u3)[[1,2], [1,2]]))^2 + abs(immanant(Partition([1,1]), transformacion(#=u1*=#u2*u3)[[1,3], [1,2]]))^2"
   ]
  },
  {
   "cell_type": "code",
   "execution_count": 119,
   "metadata": {},
   "outputs": [
    {
     "data": {
      "text/latex": [
       "0 . 1 9 1 0 9 0 5 2 4 4 6 0 9 9 5 4 0 9 6 5 8 8 9 1 0 9 8 8 6 2 7 4 1 9 7 2 7 5 5 5 3 1 1 7 0 2 2 7 5 1 2 1 8 3 1 3 1 5 8 2 0 5 0 4 7 8 4 1 3 4 7 1 2 6 2 0 4 3"
      ],
      "text/plain": [
       "0.191090524460995409658891098862741972755531170227512183131582050478413471262043"
      ]
     },
     "execution_count": 119,
     "metadata": {},
     "output_type": "execute_result"
    }
   ],
   "source": [
    "abs(immanant(Partition([1,1]), transformacion(#=u1*=#(u2*u3)[[1,2], [1,2]])))^2 + abs(immanant(Partition([1,1]), transformacion(#=u1*=#(u2*u3)[[1,3], [1,2]])))^2"
   ]
  },
  {
   "cell_type": "code",
   "execution_count": 118,
   "metadata": {},
   "outputs": [
    {
     "data": {
      "text/latex": [
       "0 . 1 9 1 0 9 0 5 2 4 4 6 0 9 9 5 4 0 9 6 5 8 8 9 1 0 9 8 8 6 2 7 4 1 9 7 2 7 5 5 5 3 1 1 7 0 2 2 7 5 1 2 1 8 3 1 3 1 5 8 2 0 5 0 4 7 8 4 1 3 4 7 1 2 6 2 0 4 3"
      ],
      "text/plain": [
       "0.191090524460995409658891098862741972755531170227512183131582050478413471262043"
      ]
     },
     "execution_count": 118,
     "metadata": {},
     "output_type": "execute_result"
    }
   ],
   "source": [
    "p1=abs(immanant(Partition([1,1]), transformacion(#=u1*=#u2*u3)[[1,2], [1,2]]))^2 + abs(immanant(Partition([1,1]), transformacion(#=u1*=#u2*u3)[[1,3], [1,2]]))^2"
   ]
  },
  {
   "cell_type": "markdown",
   "metadata": {},
   "source": [
    "Segunda tasa"
   ]
  },
  {
   "cell_type": "code",
   "execution_count": null,
   "metadata": {},
   "outputs": [],
   "source": []
  },
  {
   "cell_type": "code",
   "execution_count": 18,
   "metadata": {},
   "outputs": [
    {
     "data": {
      "text/latex": [
       "0 . 1 4 4 8 1 5 8 5 1 5 8 7 9 9 4 5 7 3 9 3 9 1 6 8 2 6 7 0 8 1 5 6 4 6 4 5 3 5 6 0 5 6 6 4 5 0 6 6 6 8 7 4 1 0 5 4 4 0 8 0 7 7 3 3 7 4 9 6 2 3 0 1 8 3 7 3 8 7 5"
      ],
      "text/plain": [
       "0.1448158515879945739391682670815646453560566450666874105440807733749623018373875"
      ]
     },
     "execution_count": 18,
     "metadata": {},
     "output_type": "execute_result"
    }
   ],
   "source": [
    "abs(immanant(Partition([2]), (inv(p₁₃)*u1*u2*u3*p₁₃)[[2,3], [1,2]]))^2+ abs(immanant(Partition([2]), (inv(p₁₃)*u1*u2*u3*p₁₃)[[1,3], [1,2]]))^2"
   ]
  },
  {
   "cell_type": "code",
   "execution_count": 19,
   "metadata": {},
   "outputs": [
    {
     "data": {
      "text/latex": [
       "0 . 1 4 4 8 1 5 8 5 1 5 8 7 9 9 4 5 5 9 9 7 7 0 5 8 0 8 2 4 3 1 8 9 9 1 5 2 2 3 9 0 7 4 0 8 1 3 1 6 7 4 1 3 5 7 1 8 3 2 2 5 1 9 2 4 2 5 8 9 2 0 8 7 4 8 8 8 3 6 8"
      ],
      "text/plain": [
       "0.1448158515879945599770580824318991522390740813167413571832251924258920874888368"
      ]
     },
     "execution_count": 19,
     "metadata": {},
     "output_type": "execute_result"
    }
   ],
   "source": [
    "abs(immanant(Partition([2]), (inv(p₁₃)*#=u1*=#u2*u3*p₁₃)[[2,3], [1,2]]))^2+ abs(immanant(Partition([2]), (inv(p₁₃)*#=u1*=#u2*u3*p₁₃)[[1,3], [1,2]]))^2"
   ]
  },
  {
   "cell_type": "code",
   "execution_count": 20,
   "metadata": {},
   "outputs": [
    {
     "data": {
      "text/latex": [
       "0 . 1 4 4 8 1 5 8 5 1 5 8 7 9 9 4 5 5 9 9 7 7 0 5 8 0 8 2 4 3 1 8 9 9 1 5 2 2 3 9 0 7 4 0 8 1 3 1 6 7 4 1 3 5 7 1 8 3 2 2 5 1 9 2 4 2 5 8 9 2 0 8 7 4 8 8 8 3 6 8"
      ],
      "text/plain": [
       "0.1448158515879945599770580824318991522390740813167413571832251924258920874888368"
      ]
     },
     "execution_count": 20,
     "metadata": {},
     "output_type": "execute_result"
    }
   ],
   "source": [
    "p2=abs(immanant(Partition([2]), (inv(p₁₃)*#=u1*=#u2*u3*p₁₃)[[2,3], [1,2]]))^2+ abs(immanant(Partition([2]), (inv(p₁₃)*#=u1*=#u2*u3*p₁₃)[[1,3], [1,2]]))^2"
   ]
  },
  {
   "cell_type": "code",
   "execution_count": null,
   "metadata": {},
   "outputs": [],
   "source": []
  },
  {
   "cell_type": "markdown",
   "metadata": {},
   "source": [
    "Tercer tasa"
   ]
  },
  {
   "cell_type": "code",
   "execution_count": 22,
   "metadata": {},
   "outputs": [
    {
     "data": {
      "text/latex": [
       "0 . 5 2 1 9 7 5 2 9 2 9 7 5 6 4 3 1 6 7 4 6 3 2 2 2 6 4 9 8 2 0 1 4 3 8 6 2 4 5 3 4 2 0 3 8 0 8 0 3 6 6 9 1 1 0 1 7 4 3 0 1 6 1 0 9 8 2 3 3 7 8 3 9 5 9 6 2 6 7 9"
      ],
      "text/plain": [
       "0.5219752929756431674632226498201438624534203808036691101743016109823378395962679"
      ]
     },
     "execution_count": 22,
     "metadata": {},
     "output_type": "execute_result"
    }
   ],
   "source": [
    "abs(immanant(Partition([2]), (inv(p₁₂)*u1*u2*u3*p₁₂)[[2,3], [1,2]]))^2+ abs(immanant(Partition([2]), (inv(p₁₂)*u1*u2*u3*p₁₂)[[1,2], [1,2]]))^2"
   ]
  },
  {
   "cell_type": "code",
   "execution_count": 23,
   "metadata": {},
   "outputs": [
    {
     "data": {
      "text/latex": [
       "0 . 5 2 1 9 7 5 2 9 2 9 7 5 6 4 3 1 0 4 9 6 1 4 5 0 5 7 5 1 2 3 0 9 0 1 1 7 3 9 2 6 4 9 1 9 0 2 8 9 6 7 3 2 3 2 0 7 0 4 2 6 8 8 3 6 8 6 7 6 7 3 2 7 0 5 4 3 7 6 4"
      ],
      "text/plain": [
       "0.5219752929756431049614505751230901173926491902896732320704268836867673270543764"
      ]
     },
     "execution_count": 23,
     "metadata": {},
     "output_type": "execute_result"
    }
   ],
   "source": [
    "abs(immanant(Partition([2]), (inv(p₁₂)*#=u1*=#u2*u3*p₁₂)[[1,2], [1,2]]))^2+ abs(immanant(Partition([2]), (inv(p₁₂)*#=u1*=#u2*u3*p₁₂)[[2,3], [1,2]]))^2"
   ]
  },
  {
   "cell_type": "code",
   "execution_count": 24,
   "metadata": {},
   "outputs": [
    {
     "data": {
      "text/latex": [
       "0 . 5 2 1 9 7 5 2 9 2 9 7 5 6 4 3 1 0 4 9 6 1 4 5 0 5 7 5 1 2 3 0 9 0 1 1 7 3 9 2 6 4 9 1 9 0 2 8 9 6 7 3 2 3 2 0 7 0 4 2 6 8 8 3 6 8 6 7 6 7 3 2 7 0 5 4 3 7 6 4"
      ],
      "text/plain": [
       "0.5219752929756431049614505751230901173926491902896732320704268836867673270543764"
      ]
     },
     "execution_count": 24,
     "metadata": {},
     "output_type": "execute_result"
    }
   ],
   "source": [
    "p3=abs(immanant(Partition([2]), (inv(p₁₂)*#=u1*=#u2*u3*p₁₂)[[1,2], [1,2]]))^2+ abs(immanant(Partition([2]), (inv(p₁₂)*#=u1*=#u2*u3*p₁₂)[[2,3], [1,2]]))^2"
   ]
  },
  {
   "cell_type": "code",
   "execution_count": 25,
   "metadata": {},
   "outputs": [
    {
     "ename": "LoadError",
     "evalue": "UndefVarError: lista not defined",
     "output_type": "error",
     "traceback": [
      "UndefVarError: lista not defined",
      "",
      "Stacktrace:",
      " [1] top-level scope at In[25]:1",
      " [2] execute_code(::String, ::String) at /home/david/.julia/packages/IJulia/rWZ9e/src/execute_request.jl:27",
      " [3] execute_request(::ZMQ.Socket, ::IJulia.Msg) at /home/david/.julia/packages/IJulia/rWZ9e/src/execute_request.jl:86",
      " [4] #invokelatest#1 at ./essentials.jl:710 [inlined]",
      " [5] invokelatest at ./essentials.jl:709 [inlined]",
      " [6] eventloop(::ZMQ.Socket) at /home/david/.julia/packages/IJulia/rWZ9e/src/eventloop.jl:8",
      " [7] (::IJulia.var\"#15#18\")() at ./task.jl:356"
     ]
    }
   ],
   "source": [
    "lista[1]+lista[2]"
   ]
  },
  {
   "cell_type": "code",
   "execution_count": 26,
   "metadata": {},
   "outputs": [
    {
     "data": {
      "text/latex": [
       "1 . 1 8 8 7 6 6 4 3 7 5 3 9 2 8 0 7 6 9 8 9 9 9 5 9 2 3 2 6 7 8 0 7 9 3 8 7 0 2 4 3 7 2 4 6 1 8 9 6 0 8 7 8 2 1 3 2 4 0 7 8 9 5 9 7 9 9 4 2 6 7 4 1 5 9 7 5 8 9"
      ],
      "text/plain": [
       "1.188766437539280769899959232678079387024372461896087821324078959799426741597589"
      ]
     },
     "execution_count": 26,
     "metadata": {},
     "output_type": "execute_result"
    }
   ],
   "source": [
    "p1+p2+p3"
   ]
  },
  {
   "cell_type": "markdown",
   "metadata": {},
   "source": [
    "Tasa fea"
   ]
  },
  {
   "cell_type": "code",
   "execution_count": 33,
   "metadata": {},
   "outputs": [
    {
     "data": {
      "text/latex": [
       "0 . 7 4 1 1 6 9 8 5 7 6 8 9 3 3 9 6 3 2 5 4 2 9 4 4 9 9 5 0 2 7 5 0 3 9 7 2 8 2 4 4 1 6 2 9 3 2 2 1 6 0 6 6 3 7 2 2 3 9 5 6 1 8 1 6 5 5 5 6 0 1 8 3 2 2 4 5 9 5 9"
      ],
      "text/plain": [
       "0.7411698576893396325429449950275039728244162932216066372239561816555601832245959"
      ]
     },
     "execution_count": 33,
     "metadata": {},
     "output_type": "execute_result"
    }
   ],
   "source": [
    "kk1 = abs(immanant(Partition([2]), (u1*u2*u3)[[1,1], [1,2]]))^2+ abs(immanant(Partition([2]), (u1*u2*u3)[[2,2], [1,2]]))^2+ abs(immanant(Partition([2]), (u1*u2*u3)[[3,3], [1,2]]))^2"
   ]
  },
  {
   "cell_type": "code",
   "execution_count": 36,
   "metadata": {},
   "outputs": [],
   "source": [
    "#kk1 = abs(immanant(Partition([2]), (#=u1*=#u2*u3)[[1,1], [1,2]]))^2+ abs(immanant(Partition([2]), (#=u1*=#u2*u3)[[2,2], [1,2]]))^2+ abs(immanant(Partition([2]), (#=u1*=#u2*u3)[[3,3], [1,2]]))^2"
   ]
  },
  {
   "cell_type": "code",
   "execution_count": 37,
   "metadata": {},
   "outputs": [
    {
     "data": {
      "text/latex": [
       "0 . 6 2 9 4 1 5 0 7 1 1 5 5 3 2 9 2 9 4 4 7 2 5 4 9 2 2 2 2 8 3 7 6 4 4 5 6 0 0 5 1 9 9 9 2 5 1 4 5 4 3 0 9 5 3 8 1 1 1 3 1 9 6 3 7 9 3 0 0 0 9 0 0 2 8 9 6 3 1 4"
      ],
      "text/plain": [
       "0.6294150711553292944725492222837644560051999251454309538111319637930009002896314"
      ]
     },
     "execution_count": 37,
     "metadata": {},
     "output_type": "execute_result"
    }
   ],
   "source": [
    "kk2 = abs(immanant(Partition([2]), (u1*u2*u3)[[1,2], [1,2]]))^2+ abs(immanant(Partition([2]), (u1*u2*u3)[[1,3], [1,2]]))^2+ abs(immanant(Partition([2]), (u1*u2*u3)[[2,3], [1,2]]))^2"
   ]
  },
  {
   "cell_type": "code",
   "execution_count": 38,
   "metadata": {},
   "outputs": [
    {
     "data": {
      "text/plain": [
       "3-element Array{BigFloat,1}:\n",
       " 0.4385434943895915941196999795315395767852238928627159144669919191528796630422105\n",
       " 0.08343179858605157334352267028860428566819648794095319570730969182945817655405632\n",
       " 0.1074397781796861270093265724636205935517795443417618436368303528106630606933647"
      ]
     },
     "execution_count": 38,
     "metadata": {},
     "output_type": "execute_result"
    }
   ],
   "source": [
    "lista = [abs(immanant(Partition([2]), (u1*u2*u3)[[1,2], [1,2]]))^2, abs(immanant(Partition([2]), (u1*u2*u3)[[1,3], [1,2]]))^2, abs(immanant(Partition([2]), (u1*u2*u3)[[2,3], [1,2]]))^2]"
   ]
  },
  {
   "cell_type": "code",
   "execution_count": 39,
   "metadata": {},
   "outputs": [
    {
     "data": {
      "text/latex": [
       "0 . 9 9 9 9 9 9 9 9 9 9 9 9 9 9 9 1 1 0 7 4 4 0 2 1 7 1 9 7 9 7 5 1 6 4 4 2 4 1 7 4 0 8 0 7 1 7 5 6 2 3 4 2 7 2 4 2 3 1 1 0 0 5 4 6 2 0 7 8 0 9 9 1 9 0 1 9 2 9 4"
      ],
      "text/plain": [
       "0.9999999999999991107440217197975164424174080717562342724231100546207809919019294"
      ]
     },
     "execution_count": 39,
     "metadata": {},
     "output_type": "execute_result"
    }
   ],
   "source": [
    "kk2 + kk1/2"
   ]
  },
  {
   "cell_type": "markdown",
   "metadata": {},
   "source": [
    "So, there is a problem. In order to have a sum independent of a $U(2)$ transformation, we require a modification of the network."
   ]
  },
  {
   "cell_type": "markdown",
   "metadata": {},
   "source": [
    "# Probando otros cosets"
   ]
  },
  {
   "cell_type": "code",
   "execution_count": 44,
   "metadata": {},
   "outputs": [
    {
     "data": {
      "text/latex": [
       "0 . 5 0 5 5 2 5 6 1 7 8 5 4 4 8 9 2 4 2 7 4 1 9 8 6 4 4 0 6 8 1 3 7 4 5 7 9 8 5 2 7 1 1 1 8 0 3 2 0 2 0 8 9 1 2 2 7 8 3 1 1 4 0 4 2 0 4 6 4 3 8 8 6 9 8 9 2 8 9 9"
      ],
      "text/plain": [
       "0.5055256178544892427419864406813745798527111803202089122783114042046438869892899"
      ]
     },
     "execution_count": 44,
     "metadata": {},
     "output_type": "execute_result"
    }
   ],
   "source": [
    "abs(immanant(Partition([2]), (u1*u2*u3)[[1,1], [1,2]]))^2+ abs(immanant(Partition([2]), (u1*u2*u3)[[3,3], [1,2]]))^2#+ abs(immanant(Partition([2]), (u1*u2*u3)[[2,3], [1,2]]))^2"
   ]
  },
  {
   "cell_type": "code",
   "execution_count": 45,
   "metadata": {},
   "outputs": [
    {
     "data": {
      "text/latex": [
       "0 . 4 5 7 8 4 1 4 2 8 5 4 0 3 8 8 7 9 5 3 1 4 9 2 0 1 8 7 2 3 2 8 2 6 0 8 0 4 6 3 2 1 9 3 0 3 3 0 2 1 4 5 6 1 4 9 6 8 7 4 8 0 6 4 6 9 4 3 9 8 2 2 5 4 2 7 1 0 7 7"
      ],
      "text/plain": [
       "0.4578414285403887953149201872328260804632193033021456149687480646943982254271077"
      ]
     },
     "execution_count": 45,
     "metadata": {},
     "output_type": "execute_result"
    }
   ],
   "source": [
    "abs(immanant(Partition([2]), (#=u1*=#u2*u3)[[1,1], [1,2]]))^2+ abs(immanant(Partition([2]), (#=u1*=#u2*u3)[[3,3], [1,2]]))^2#+ abs(immanant(Partition([2]), (u1*u2*u3)[[2,3], [1,2]]))^2"
   ]
  },
  {
   "cell_type": "code",
   "execution_count": 46,
   "metadata": {},
   "outputs": [
    {
     "data": {
      "text/latex": [
       "0 . 0"
      ],
      "text/plain": [
       "0.0"
      ]
     },
     "execution_count": 46,
     "metadata": {},
     "output_type": "execute_result"
    }
   ],
   "source": [
    "abs(immanant(Partition([2]), (#=u1*=#u2*u3)[[1,1], [1,2]]))^2\n",
    "abs(immanant(Partition([2]), (#=u1*=#u2*u3)[[3,3], [1,2]]))^2#+ abs(immanant(Partition([2]), (u1*u2*u3)[[2,3], [1,2]]))^2"
   ]
  },
  {
   "cell_type": "code",
   "execution_count": 47,
   "metadata": {},
   "outputs": [
    {
     "data": {
      "text/latex": [
       "0 . 5 6 5 2 8 1 2 0 6 7 2 0 0 7 4 9 2 2 3 2 4 2 4 6 7 5 9 6 9 6 4 4 6 6 7 4 0 1 4 9 9 8 8 4 7 6 4 3 9 0 7 4 5 8 6 0 5 5 7 8 4 1 7 5 0 5 0 6 1 2 8 6 1 2 0 4 7 1 3"
      ],
      "text/plain": [
       "0.5652812067200749223242467596964466740149988476439074586055784175050612861204713"
      ]
     },
     "execution_count": 47,
     "metadata": {},
     "output_type": "execute_result"
    }
   ],
   "source": [
    "abs(immanant(Partition([2]), (u1*u2*u3)[[2,3], [1,2]]))^2+ abs(immanant(Partition([2]), (u1*u2*u3)[[1,1], [1,2]]))^2\n"
   ]
  },
  {
   "cell_type": "code",
   "execution_count": 48,
   "metadata": {},
   "outputs": [
    {
     "data": {
      "text/latex": [
       "0 . 4 7 8 0 2 4 7 0 7 0 2 4 3 5 6 1 4 2 4 3 2 0 4 2 8 6 0 3 6 9 0 5 1 6 9 6 2 2 1 1 1 2 3 8 6 5 1 7 4 6 6 2 3 2 9 2 6 4 5 6 1 2 0 3 1 7 3 0 6 6 1 3 4 3 3 3 7 2 4"
      ],
      "text/plain": [
       "0.4780247070243561424320428603690516962211123865174662329264561203173066134333724"
      ]
     },
     "execution_count": 48,
     "metadata": {},
     "output_type": "execute_result"
    }
   ],
   "source": [
    "abs(immanant(Partition([2]), (#=u1*=#u2*u3)[[2,3], [1,2]]))^2+ abs(immanant(Partition([2]), (#=u1*=#u2*u3)[[1,1], [1,2]]))^2"
   ]
  },
  {
   "cell_type": "code",
   "execution_count": 49,
   "metadata": {},
   "outputs": [
    {
     "data": {
      "text/latex": [
       "0 . 3 3 6 3 6 0 4 9 2 4 4 9 8 8 0 5 2 4 6 6 6 7 8 6 6 6 6 0 8 0 0 3 3 6 3 3 7 8 3 3 8 9 1 9 5 9 9 2 8 3 4 6 5 1 1 2 1 2 0 4 3 8 5 1 5 7 8 6 2 1 7 3 4 0 6 9 1 7 4"
      ],
      "text/plain": [
       "0.3363604924498805246667866660800336337833891959928346511212043851578621734069174"
      ]
     },
     "execution_count": 49,
     "metadata": {},
     "output_type": "execute_result"
    }
   ],
   "source": [
    "abs(immanant(Partition([2]), (u1*u2*u3)[[2,3], [1,2]]))^2+ (abs(immanant(Partition([2]), (u1*u2*u3)[[1,1], [1,2]]))^2)/2"
   ]
  },
  {
   "cell_type": "code",
   "execution_count": 50,
   "metadata": {},
   "outputs": [
    {
     "data": {
      "text/latex": [
       "0 . 2 4 9 1 0 3 9 9 2 7 5 4 1 6 1 7 4 4 7 7 4 5 8 2 7 6 6 7 5 2 6 3 8 6 5 5 9 8 9 5 0 2 7 3 4 8 6 6 3 9 3 4 2 5 4 4 2 0 8 2 0 8 7 9 7 0 1 0 7 5 0 0 7 1 9 8 1 8 5"
      ],
      "text/plain": [
       "0.2491039927541617447745827667526386559895027348663934254420820879701075007198185"
      ]
     },
     "execution_count": 50,
     "metadata": {},
     "output_type": "execute_result"
    }
   ],
   "source": [
    "abs(immanant(Partition([2]), (#=u1*=#u2*u3)[[2,3], [1,2]]))^2+ (abs(immanant(Partition([2]), (#=u1*=#u2*u3)[[1,1], [1,2]]))^2)/2"
   ]
  },
  {
   "cell_type": "markdown",
   "metadata": {},
   "source": [
    "23 to 22"
   ]
  },
  {
   "cell_type": "code",
   "execution_count": 51,
   "metadata": {},
   "outputs": [
    {
     "data": {
      "text/latex": [
       "0 . 3 4 3 0 8 4 0 1 8 0 1 4 5 3 6 5 1 6 8 1 0 2 8 5 1 2 6 8 0 9 7 4 9 9 8 6 5 2 3 4 8 4 6 5 7 2 4 3 1 5 9 5 6 8 5 8 2 4 7 5 1 3 0 2 6 1 5 7 9 3 5 6 9 2 8 6 6 9 5"
      ],
      "text/plain": [
       "0.3430840180145365168102851268097499865234846572431595685824751302615793569286695"
      ]
     },
     "execution_count": 51,
     "metadata": {},
     "output_type": "execute_result"
    }
   ],
   "source": [
    "abs(immanant(Partition([2]), (u1*u2*u3)[[2,3], [1,2]]))^2+ abs(immanant(Partition([2]), (u1*u2*u3)[[2,2], [1,2]]))^2"
   ]
  },
  {
   "cell_type": "code",
   "execution_count": 52,
   "metadata": {},
   "outputs": [
    {
     "data": {
      "text/latex": [
       "0 . 4 7 8 0 2 4 7 0 7 0 2 4 3 5 6 2 4 7 0 0 9 0 4 3 5 6 6 2 4 0 7 1 8 6 9 5 8 9 8 3 9 0 0 2 0 1 0 0 0 2 9 2 4 3 2 2 0 1 2 0 3 2 2 3 9 4 7 4 7 4 4 4 1 4 0 4 8 3 7"
      ],
      "text/plain": [
       "0.4780247070243562470090435662407186958983900201000292432201203223947474441404837"
      ]
     },
     "execution_count": 52,
     "metadata": {},
     "output_type": "execute_result"
    }
   ],
   "source": [
    "abs(immanant(Partition([2]), (#=u1*=#u2*u3)[[2,3], [1,2]]))^2+ abs(immanant(Partition([2]), (#=u1*=#u2*u3)[[2,2], [1,2]]))^2"
   ]
  },
  {
   "cell_type": "code",
   "execution_count": 53,
   "metadata": {},
   "outputs": [
    {
     "data": {
      "text/latex": [
       "0 . 2 2 5 2 6 1 8 9 8 0 9 7 1 1 1 3 2 1 9 0 9 8 0 5 8 4 9 6 3 6 6 8 5 2 9 0 0 3 7 6 3 2 1 0 0 7 9 2 4 6 0 7 0 6 1 0 9 6 5 2 7 4 1 5 3 6 1 2 1 2 0 8 8 1 1 0 1 6 5"
      ],
      "text/plain": [
       "0.2252618980971113219098058496366852900376321007924607061096527415361212088110165"
      ]
     },
     "execution_count": 53,
     "metadata": {},
     "output_type": "execute_result"
    }
   ],
   "source": [
    "abs(immanant(Partition([2]), (u1*u2*u3)[[2,3], [1,2]]))^2+ (abs(immanant(Partition([2]), (u1*u2*u3)[[2,2], [1,2]]))^2)/2"
   ]
  },
  {
   "cell_type": "code",
   "execution_count": 57,
   "metadata": {},
   "outputs": [
    {
     "data": {
      "text/latex": [
       "0 . 2 4 9 1 0 3 9 9 2 7 5 4 1 6 1 7 9 7 0 6 3 0 8 3 1 1 9 6 8 8 4 7 2 1 5 5 8 2 8 1 4 1 5 5 1 6 5 7 6 7 4 9 3 0 5 8 8 9 1 4 1 8 9 0 0 8 8 2 7 9 1 6 0 7 3 3 7 4 2"
      ],
      "text/plain": [
       "0.2491039927541617970630831196884721558281415516576749305889141890088279160733742"
      ]
     },
     "execution_count": 57,
     "metadata": {},
     "output_type": "execute_result"
    }
   ],
   "source": [
    "abs(immanant(Partition([2]), (#=u1*=#u2*u3)[[2,3], [1,2]]))^2+ (abs(immanant(Partition([2]), (#=u1*=#u2*u3)[[2,2], [1,2]]))^2)/2"
   ]
  },
  {
   "cell_type": "markdown",
   "metadata": {},
   "source": [
    "23 to 33"
   ]
  },
  {
   "cell_type": "code",
   "execution_count": 58,
   "metadata": {},
   "outputs": [
    {
     "data": {
      "text/latex": [
       "0 . 1 5 5 1 2 3 9 6 7 4 9 3 7 8 6 5 7 4 4 3 6 3 9 2 8 2 5 9 1 2 1 6 9 0 9 2 9 4 1 2 7 1 4 2 1 3 5 9 8 2 5 1 4 0 9 4 6 3 9 3 6 9 2 3 2 0 9 0 8 7 2 2 2 5 5 5 4 5 8"
      ],
      "text/plain": [
       "0.1551239674937865744363928259121690929412714213598251409463936923209087222555458"
      ]
     },
     "execution_count": 58,
     "metadata": {},
     "output_type": "execute_result"
    }
   ],
   "source": [
    "abs(immanant(Partition([2]), (u1*u2*u3)[[2,3], [1,2]]))^2+ abs(immanant(Partition([2]), (u1*u2*u3)[[3,3], [1,2]]))^2"
   ]
  },
  {
   "cell_type": "code",
   "execution_count": 62,
   "metadata": {},
   "outputs": [
    {
     "data": {
      "text/latex": [
       "0 . 0 2 0 1 8 3 2 7 8 4 8 3 9 6 7 3 4 7 1 1 7 1 2 2 6 7 3 1 3 6 2 2 5 6 1 5 7 5 7 8 9 3 0 8 3 2 1 5 3 2 0 6 1 7 9 5 7 7 0 8 0 5 5 6 2 2 9 0 8 3 8 8 0 0 6 2 6 4 4 2"
      ],
      "text/plain": [
       "0.02018327848396734711712267313622561575789308321532061795770805562290838800626442"
      ]
     },
     "execution_count": 62,
     "metadata": {},
     "output_type": "execute_result"
    }
   ],
   "source": [
    "abs(immanant(Partition([2]), (#=u1*=#u2*u3)[[2,3], [1,2]]))^2+ abs(immanant(Partition([2]), (#=u1*=#u2*u3)[[3,3], [1,2]]))^2"
   ]
  },
  {
   "cell_type": "code",
   "execution_count": 60,
   "metadata": {},
   "outputs": [
    {
     "data": {
      "text/latex": [
       "0 . 1 3 1 2 8 1 8 7 2 8 3 6 7 3 6 3 5 0 7 2 2 8 5 9 6 9 9 1 8 7 8 9 4 8 4 3 2 4 6 5 2 5 4 8 2 8 5 0 7 9 3 4 9 2 2 9 1 6 1 2 0 2 2 5 6 5 7 8 5 8 9 1 4 7 4 4 5 4 7"
      ],
      "text/plain": [
       "0.1312818728367363507228596991878948432465254828507934922916120225657858914744547"
      ]
     },
     "execution_count": 60,
     "metadata": {},
     "output_type": "execute_result"
    }
   ],
   "source": [
    "abs(immanant(Partition([2]), (u1*u2*u3)[[2,3], [1,2]]))^2+ (abs(immanant(Partition([2]), (u1*u2*u3)[[3,3], [1,2]]))^2)/2"
   ]
  },
  {
   "cell_type": "code",
   "execution_count": 66,
   "metadata": {},
   "outputs": [
    {
     "data": {
      "text/latex": [
       "0 . 0 2 0 1 8 3 2 7 8 4 8 3 9 6 7 3 4 7 1 1 7 1 2 2 6 7 3 1 3 6 2 2 5 6 1 5 7 5 7 8 9 3 0 8 3 2 1 5 3 2 0 6 1 7 9 5 7 7 0 8 0 5 5 6 2 2 9 0 8 3 8 8 0 0 6 2 6 4 4 2"
      ],
      "text/plain": [
       "0.02018327848396734711712267313622561575789308321532061795770805562290838800626442"
      ]
     },
     "execution_count": 66,
     "metadata": {},
     "output_type": "execute_result"
    }
   ],
   "source": [
    "abs(immanant(Partition([2]), (#=u1*=#u2*u3)[[2,3], [1,2]]))^2+ (abs(immanant(Partition([2]), (#=u1*=#u2*u3)[[3,3], [1,2]]))^2)/2"
   ]
  },
  {
   "cell_type": "markdown",
   "metadata": {},
   "source": [
    "11 to 22"
   ]
  },
  {
   "cell_type": "code",
   "execution_count": 67,
   "metadata": {},
   "outputs": [
    {
     "data": {
      "text/latex": [
       "0 . 6 9 3 4 8 5 6 6 8 3 7 5 2 3 9 1 8 5 1 1 5 8 7 8 7 4 1 5 7 8 9 5 5 4 7 3 4 3 4 9 2 4 4 1 6 2 0 3 5 4 3 3 3 9 9 1 4 3 9 2 8 4 2 1 4 5 3 1 4 5 2 1 6 6 2 4 1 3 7"
      ],
      "text/plain": [
       "0.6934856683752391851158787415789554734349244162035433399143928421453145216624137"
      ]
     },
     "execution_count": 67,
     "metadata": {},
     "output_type": "execute_result"
    }
   ],
   "source": [
    "abs(immanant(Partition([2]), (u1*u2*u3)[[1,1], [1,2]]))^2+ abs(immanant(Partition([2]), (u1*u2*u3)[[2,2], [1,2]]))^2"
   ]
  },
  {
   "cell_type": "code",
   "execution_count": 68,
   "metadata": {},
   "outputs": [
    {
     "data": {
      "text/latex": [
       "0 . 9 1 5 6 8 2 8 5 7 0 8 0 7 7 7 6 9 5 2 0 6 8 4 1 0 8 0 3 3 7 3 1 9 1 6 0 6 0 3 7 1 6 2 4 0 1 8 6 8 5 4 2 4 0 2 3 1 1 6 0 3 3 1 4 6 6 2 3 7 2 8 1 5 6 1 3 2 6 7"
      ],
      "text/plain": [
       "0.9156828570807776952068410803373191606037162401868542402311603314662372815613267"
      ]
     },
     "execution_count": 68,
     "metadata": {},
     "output_type": "execute_result"
    }
   ],
   "source": [
    "abs(immanant(Partition([2]), (#=u1*=#u2*u3)[[1,1], [1,2]]))^2+ abs(immanant(Partition([2]), (#=u1*=#u2*u3)[[2,2], [1,2]]))^2"
   ]
  },
  {
   "cell_type": "code",
   "execution_count": 69,
   "metadata": {},
   "outputs": [
    {
     "data": {
      "text/latex": [
       "0 . 5 0 5 5 2 5 6 1 7 8 5 4 4 8 9 2 4 2 7 4 1 9 8 6 4 4 0 6 8 1 3 7 4 5 7 9 8 5 2 7 1 1 1 8 0 3 2 0 2 0 8 9 1 2 2 7 8 3 1 1 4 0 4 2 0 4 6 4 3 8 8 6 9 8 9 2 8 9 9"
      ],
      "text/plain": [
       "0.5055256178544892427419864406813745798527111803202089122783114042046438869892899"
      ]
     },
     "execution_count": 69,
     "metadata": {},
     "output_type": "execute_result"
    }
   ],
   "source": [
    "abs(immanant(Partition([2]), (u1*u2*u3)[[1,1], [1,2]]))^2+ abs(immanant(Partition([2]), (u1*u2*u3)[[3,3], [1,2]]))^2"
   ]
  },
  {
   "cell_type": "code",
   "execution_count": 70,
   "metadata": {},
   "outputs": [
    {
     "data": {
      "text/latex": [
       "0 . 4 5 7 8 4 1 4 2 8 5 4 0 3 8 8 7 9 5 3 1 4 9 2 0 1 8 7 2 3 2 8 2 6 0 8 0 4 6 3 2 1 9 3 0 3 3 0 2 1 4 5 6 1 4 9 6 8 7 4 8 0 6 4 6 9 4 3 9 8 2 2 5 4 2 7 1 0 7 7"
      ],
      "text/plain": [
       "0.4578414285403887953149201872328260804632193033021456149687480646943982254271077"
      ]
     },
     "execution_count": 70,
     "metadata": {},
     "output_type": "execute_result"
    }
   ],
   "source": [
    "abs(immanant(Partition([2]), (#=u1*=#u2*u3)[[1,1], [1,2]]))^2+ abs(immanant(Partition([2]), (#=u1*=#u2*u3)[[3,3], [1,2]]))^2"
   ]
  },
  {
   "cell_type": "code",
   "execution_count": 71,
   "metadata": {},
   "outputs": [
    {
     "data": {
      "text/latex": [
       "0 . 2 8 3 3 2 8 4 2 9 1 4 8 9 5 0 8 3 7 2 2 8 0 2 4 8 0 7 7 9 4 6 7 7 8 9 2 3 6 1 1 9 6 9 8 9 9 1 9 4 6 1 0 2 2 2 5 5 2 0 8 1 1 6 9 6 1 1 6 1 9 5 7 7 9 7 4 8 8 1"
      ],
      "text/plain": [
       "0.2833284291489508372280248077946778923611969899194610222552081169611619577974881"
      ]
     },
     "execution_count": 71,
     "metadata": {},
     "output_type": "execute_result"
    }
   ],
   "source": [
    "abs(immanant(Partition([2]), (u1*u2*u3)[[2,2], [1,2]]))^2+ abs(immanant(Partition([2]), (u1*u2*u3)[[3,3], [1,2]]))^2"
   ]
  },
  {
   "cell_type": "code",
   "execution_count": 72,
   "metadata": {},
   "outputs": [
    {
     "data": {
      "text/latex": [
       "0 . 4 5 7 8 4 1 4 2 8 5 4 0 3 8 8 8 9 9 8 9 1 9 2 0 8 9 3 1 0 4 4 9 3 0 8 0 1 4 0 4 9 6 9 3 6 8 8 4 7 0 8 6 2 5 2 6 2 4 1 2 2 6 6 7 7 1 8 3 9 0 5 6 1 3 4 2 1 9"
      ],
      "text/plain": [
       "0.457841428540388899891920893104493080140496936884708625262412266771839056134219"
      ]
     },
     "execution_count": 72,
     "metadata": {},
     "output_type": "execute_result"
    }
   ],
   "source": [
    "abs(immanant(Partition([2]), (#=u1*=#u2*u3)[[2,2], [1,2]]))^2+ abs(immanant(Partition([2]), (#=u1*=#u2*u3)[[3,3], [1,2]]))^2"
   ]
  },
  {
   "cell_type": "markdown",
   "metadata": {},
   "source": [
    "de tres"
   ]
  },
  {
   "cell_type": "code",
   "execution_count": 74,
   "metadata": {},
   "outputs": [
    {
     "data": {
      "text/latex": [
       "0 . 8 0 0 9 2 5 4 4 6 5 5 4 9 2 5 3 1 2 1 2 5 2 0 5 3 1 4 0 4 2 5 7 6 0 6 6 9 8 6 7 0 3 9 6 0 5 4 5 3 0 5 1 8 3 5 5 1 2 2 3 1 9 4 9 5 5 9 7 7 5 8 2 3 5 5 7 7 7 2"
      ],
      "text/plain": [
       "0.8009254465549253121252053140425760669867039605453051835512231949559775823557772"
      ]
     },
     "execution_count": 74,
     "metadata": {},
     "output_type": "execute_result"
    }
   ],
   "source": [
    "abs(immanant(Partition([2]), (u1*u2*u3)[[2,3], [1,2]]))^2+ abs(immanant(Partition([2]), (u1*u2*u3)[[1,1], [1,2]]))^2+ abs(immanant(Partition([2]), (u1*u2*u3)[[2,2], [1,2]]))^2"
   ]
  },
  {
   "cell_type": "code",
   "execution_count": 75,
   "metadata": {},
   "outputs": [
    {
     "data": {
      "text/latex": [
       "0 . 9 3 5 8 6 6 1 3 5 5 6 4 7 4 5 0 4 2 3 2 3 9 6 3 7 5 3 4 7 3 5 4 4 7 7 6 3 6 1 6 0 9 3 2 3 4 0 2 1 7 4 8 5 8 1 8 8 8 6 8 3 8 7 0 8 9 1 4 5 6 6 9 5 6 7 5 9 1 4"
      ],
      "text/plain": [
       "0.9358661355647450423239637534735447763616093234021748581888683870891456695675914"
      ]
     },
     "execution_count": 75,
     "metadata": {},
     "output_type": "execute_result"
    }
   ],
   "source": [
    "abs(immanant(Partition([2]), (#=u1*=#u2*u3)[[2,3], [1,2]]))^2+ abs(immanant(Partition([2]), (#=u1*=#u2*u3)[[1,1], [1,2]]))^2+ abs(immanant(Partition([2]), (#=u1*=#u2*u3)[[2,2], [1,2]]))^2"
   ]
  },
  {
   "cell_type": "code",
   "execution_count": 76,
   "metadata": {},
   "outputs": [
    {
     "data": {
      "text/latex": [
       "0 . 4 5 4 1 8 2 6 1 2 3 6 7 3 0 5 7 1 9 5 6 7 2 6 5 9 4 3 2 5 3 0 9 8 3 3 0 2 6 9 2 4 1 7 5 2 4 4 3 5 3 3 5 1 3 5 9 4 0 2 6 7 7 3 8 8 3 3 2 0 3 2 1 5 2 4 5 7 0 4"
      ],
      "text/plain": [
       "0.4541826123673057195672659432530983302692417524435335135940267738833203215245704"
      ]
     },
     "execution_count": 76,
     "metadata": {},
     "output_type": "execute_result"
    }
   ],
   "source": [
    "abs(immanant(Partition([2]), (u1*u2*u3)[[2,3], [1,2]]))^2+ 0.5*abs(immanant(Partition([2]), (u1*u2*u3)[[1,1], [1,2]]))^2+ 0.5*abs(immanant(Partition([2]), (u1*u2*u3)[[2,2], [1,2]]))^2"
   ]
  },
  {
   "cell_type": "code",
   "execution_count": 77,
   "metadata": {},
   "outputs": [
    {
     "data": {
      "text/latex": [
       "0 . 4 7 8 0 2 4 7 0 7 0 2 4 3 5 6 1 9 4 7 2 0 5 4 3 2 1 3 3 0 4 8 8 5 1 9 6 0 5 9 7 5 1 2 0 3 3 0 8 7 4 7 7 3 8 0 7 3 2 8 8 2 2 1 3 5 6 0 2 7 0 2 8 7 8 6 9 2 8"
      ],
      "text/plain": [
       "0.478024707024356194720543213304885196059751203308747738073288221356027028786928"
      ]
     },
     "execution_count": 77,
     "metadata": {},
     "output_type": "execute_result"
    }
   ],
   "source": [
    "abs(immanant(Partition([2]), (#=u1*=#u2*u3)[[2,3], [1,2]]))^2+ 0.5*abs(immanant(Partition([2]), (#=u1*=#u2*u3)[[1,1], [1,2]]))^2+ 0.5*abs(immanant(Partition([2]), (#=u1*=#u2*u3)[[2,2], [1,2]]))^2"
   ]
  },
  {
   "cell_type": "markdown",
   "metadata": {},
   "source": []
  },
  {
   "cell_type": "code",
   "execution_count": 78,
   "metadata": {},
   "outputs": [
    {
     "data": {
      "text/latex": [
       "0 . 6 1 2 9 6 5 3 9 6 0 3 4 1 7 5 3 6 9 7 5 1 3 1 3 0 1 3 1 4 4 9 9 5 1 7 3 4 0 4 4 9 0 7 2 4 6 6 1 9 7 0 7 5 5 9 1 5 1 4 1 7 5 7 0 1 5 3 0 6 9 4 7 6 8 2 6 5 3 5"
      ],
      "text/plain": [
       "0.6129653960341753697513130131449951734044907246619707559151417570153069476826535"
      ]
     },
     "execution_count": 78,
     "metadata": {},
     "output_type": "execute_result"
    }
   ],
   "source": [
    "abs(immanant(Partition([2]), (u1*u2*u3)[[2,3], [1,2]]))^2+ abs(immanant(Partition([2]), (u1*u2*u3)[[1,1], [1,2]]))^2+ abs(immanant(Partition([2]), (u1*u2*u3)[[3,3], [1,2]]))^2"
   ]
  },
  {
   "cell_type": "code",
   "execution_count": 79,
   "metadata": {},
   "outputs": [
    {
     "data": {
      "text/latex": [
       "0 . 4 7 8 0 2 4 7 0 7 0 2 4 3 5 6 1 4 2 4 3 2 0 4 2 8 6 0 3 6 9 0 5 1 6 9 6 2 2 1 1 1 2 3 8 6 5 1 7 4 6 6 2 3 2 9 2 6 4 5 6 1 2 0 3 1 7 3 0 6 6 1 3 4 3 3 3 7 2 4"
      ],
      "text/plain": [
       "0.4780247070243561424320428603690516962211123865174662329264561203173066134333724"
      ]
     },
     "execution_count": 79,
     "metadata": {},
     "output_type": "execute_result"
    }
   ],
   "source": [
    "abs(immanant(Partition([2]), (#=u1*=#u2*u3)[[2,3], [1,2]]))^2+ abs(immanant(Partition([2]), (#=u1*=#u2*u3)[[1,1], [1,2]]))^2+ abs(immanant(Partition([2]), (#=u1*=#u2*u3)[[3,3], [1,2]]))^2"
   ]
  },
  {
   "cell_type": "code",
   "execution_count": 80,
   "metadata": {},
   "outputs": [
    {
     "data": {
      "text/latex": [
       "0 . 3 6 0 2 0 2 5 8 7 1 0 6 9 3 0 7 4 8 3 8 0 3 1 9 7 9 2 8 0 4 3 0 7 8 8 3 4 7 8 1 3 5 1 3 4 5 0 1 8 6 6 2 9 9 7 7 5 9 8 6 0 5 4 9 1 2 9 8 5 0 0 4 1 8 8 0 0 8 5"
      ],
      "text/plain": [
       "0.3602025871069307483803197928043078834781351345018662997759860549129850041880085"
      ]
     },
     "execution_count": 80,
     "metadata": {},
     "output_type": "execute_result"
    }
   ],
   "source": [
    "abs(immanant(Partition([2]), (u1*u2*u3)[[2,3], [1,2]]))^2+ 0.5*abs(immanant(Partition([2]), (u1*u2*u3)[[1,1], [1,2]]))^2+ 0.5*abs(immanant(Partition([2]), (u1*u2*u3)[[3,3], [1,2]]))^2"
   ]
  },
  {
   "cell_type": "code",
   "execution_count": 81,
   "metadata": {},
   "outputs": [
    {
     "data": {
      "text/latex": [
       "0 . 2 4 9 1 0 3 9 9 2 7 5 4 1 6 1 7 4 4 7 7 4 5 8 2 7 6 6 7 5 2 6 3 8 6 5 5 9 8 9 5 0 2 7 3 4 8 6 6 3 9 3 4 2 5 4 4 2 0 8 2 0 8 7 9 7 0 1 0 7 5 0 0 7 1 9 8 1 8 5"
      ],
      "text/plain": [
       "0.2491039927541617447745827667526386559895027348663934254420820879701075007198185"
      ]
     },
     "execution_count": 81,
     "metadata": {},
     "output_type": "execute_result"
    }
   ],
   "source": [
    "abs(immanant(Partition([2]), (#=u1*=#u2*u3)[[2,3], [1,2]]))^2+ 0.5*abs(immanant(Partition([2]), (#=u1*=#u2*u3)[[1,1], [1,2]]))^2+ 0.5*abs(immanant(Partition([2]), (#=u1*=#u2*u3)[[3,3], [1,2]]))^2"
   ]
  },
  {
   "cell_type": "markdown",
   "metadata": {},
   "source": [
    " ding ding ding!"
   ]
  },
  {
   "cell_type": "code",
   "execution_count": 16,
   "metadata": {},
   "outputs": [
    {
     "data": {
      "text/latex": [
       "0 . 5 7 7 5 6 0 1 9 2 3 8 5 9 8 0 3 8 8 6 9 2 1 9 9 7 5 4 7 6 3 5 9 9 8 4 3 0 2 0 9 5 7 7 9 2 6 1 5 7 8 1 9 8 7 0 7 7 4 3 1 0 3 2 8 1 3 6 6 6 3 1 9 5 4 8 9 0 6 4"
      ],
      "text/plain": [
       "0.5775601923859803886921997547635998430209577926157819870774310328136663195489064"
      ]
     },
     "execution_count": 16,
     "metadata": {},
     "output_type": "execute_result"
    }
   ],
   "source": [
    "abs(immanant(Partition([2]), (u1*u2*u3)[[2,3], [1,2]]))^2+ abs(immanant(Partition([2]), (u1*u2*u3)[[2,2], [1,2]]))^2+ abs(immanant(Partition([2]), (u1*u2*u3)[[3,3], [1,2]]))^2"
   ]
  },
  {
   "cell_type": "code",
   "execution_count": 17,
   "metadata": {},
   "outputs": [
    {
     "data": {
      "text/latex": [
       "0 . 3 9 9 3 8 8 0 2 8 8 7 1 7 1 5 8 7 0 9 7 6 3 0 2 2 5 3 7 8 4 0 8 5 0 1 4 7 1 5 2 9 0 8 8 3 5 9 8 4 3 3 9 2 4 8 3 0 0 7 1 9 3 8 4 9 3 4 4 6 2 3 7 4 8 3 6 5 2 8"
      ],
      "text/plain": [
       "0.3993880288717158709763022537840850147152908835984339248300719384934462374836528"
      ]
     },
     "execution_count": 17,
     "metadata": {},
     "output_type": "execute_result"
    }
   ],
   "source": [
    "abs(immanant(Partition([2]), (#=u1*=#u2*u3)[[2,3], [1,2]]))^2+ abs(immanant(Partition([2]), (#=u1*=#u2*u3)[[2,2], [1,2]]))^2+ abs(immanant(Partition([2]), (#=u1*=#u2*u3)[[3,3], [1,2]]))^2"
   ]
  },
  {
   "cell_type": "code",
   "execution_count": 18,
   "metadata": {},
   "outputs": [
    {
     "data": {
      "text/latex": [
       "0 . 2 9 4 3 0 8 2 4 1 5 7 8 9 7 0 9 8 9 4 3 2 5 7 7 8 3 8 2 2 8 6 8 2 4 3 9 0 2 4 1 2 4 9 4 0 4 4 9 2 8 2 7 7 7 7 0 5 1 6 1 8 1 1 5 0 3 9 5 1 3 9 7 8 8 9 9 1 6 6"
      ],
      "text/plain": [
       "0.2943082415789709894325778382286824390241249404492827777051618115039513978899166"
      ]
     },
     "execution_count": 18,
     "metadata": {},
     "output_type": "execute_result"
    }
   ],
   "source": [
    "abs(immanant(Partition([2]), (u1*u2*u3)[[2,3], [1,2]]))^2+ 0.5*abs(immanant(Partition([2]), (u1*u2*u3)[[2,2], [1,2]]))^2+ 0.5*abs(immanant(Partition([2]), (u1*u2*u3)[[3,3], [1,2]]))^2"
   ]
  },
  {
   "cell_type": "code",
   "execution_count": 19,
   "metadata": {},
   "outputs": [
    {
     "data": {
      "text/latex": [
       "0 . 2 9 4 3 0 8 2 4 1 5 7 8 9 7 0 9 9 9 3 7 0 2 7 8 5 4 3 5 4 4 8 3 5 7 9 6 3 1 9 3 0 6 1 8 6 9 5 5 6 2 4 8 4 6 9 5 0 8 3 8 7 2 6 1 8 0 8 9 4 1 8 3 7 1 4 8 9 7 8"
      ],
      "text/plain": [
       "0.2943082415789709993702785435448357963193061869556248469508387261808941837148978"
      ]
     },
     "execution_count": 19,
     "metadata": {},
     "output_type": "execute_result"
    }
   ],
   "source": [
    "abs(immanant(Partition([2]), (#=u1*=#u2*u3)[[2,3], [1,2]]))^2+ 0.5*abs(immanant(Partition([2]), (#=u1*=#u2*u3)[[2,2], [1,2]]))^2+ 0.5*abs(immanant(Partition([2]), (#=u1*=#u2*u3)[[3,3], [1,2]]))^2"
   ]
  },
  {
   "cell_type": "code",
   "execution_count": 116,
   "metadata": {},
   "outputs": [
    {
     "data": {
      "text/latex": [
       "0 . 7 8 5 3 4 2 5 2 2 3 5 2 4 2 1 5 5 8 9 2 0 4 5 5 7 9 6 4 7 7 1 6 0 4 5 1 6 0 3 7 1 5 2 8 6 0 7 6 8 3 3 6 9 9 9 1 5 3 5 1 6 7 6 8 6 3 3 6 7 0 9 3 0 4 6 2 0 3 2"
      ],
      "text/plain": [
       "0.7853425223524215589204557964771604516037152860768336999153516768633670930462032"
      ]
     },
     "execution_count": 116,
     "metadata": {},
     "output_type": "execute_result"
    }
   ],
   "source": [
    "abs(immanant(Partition([1,1]), transformacion(#=u1*=#(u2*u3)[[2,3], [1,2]])))^2+ 0.5*abs(immanant(Partition([1,1]), transformacion(#=u1*=#(u2*u3)[[2,2], [1,2]])))^2+ 0.5*abs(immanant(Partition([1,1]), transformacion(#=u1*=#(u2*u3)[[3,3], [1,2]])))^2"
   ]
  },
  {
   "cell_type": "code",
   "execution_count": 104,
   "metadata": {},
   "outputs": [
    {
     "data": {
      "text/latex": [
       "0 . 7 6 1 7 7 5 5 6 9 1 6 5 8 3 8 9 0 1 9 3 3 0 9 4 5 1 6 5 6 4 7 4 8 3 0 1 5 4 1 3 2 2 7 8 1 1 7 5 6 4 6 4 4 0 1 8 0 2 8 4 1 4 9 6 2 3 6 2 4 0 4 5 9 4 3 8 7 0 4"
      ],
      "text/plain": [
       "0.7617755691658389019330945165647483015413227811756464401802841496236240459438704"
      ]
     },
     "execution_count": 104,
     "metadata": {},
     "output_type": "execute_result"
    }
   ],
   "source": [
    "abs(immanant(Partition([1,1]), transformacion(#=u1*=#u2*u3)[[2,3], [1,2]]))^2+ 0.5*abs(immanant(Partition([1,1]), transformacion(#=u1*=#u2*u3)[[2,2], [1,2]]))^2+ 0.5*abs(immanant(Partition([1,1]), transformacion(#=u1*=#u2*u3)[[3,3], [1,2]]))^2"
   ]
  },
  {
   "cell_type": "code",
   "execution_count": 109,
   "metadata": {},
   "outputs": [
    {
     "data": {
      "text/latex": [
       "0 . 0"
      ],
      "text/plain": [
       "0.0"
      ]
     },
     "execution_count": 109,
     "metadata": {},
     "output_type": "execute_result"
    }
   ],
   "source": [
    "0.5*abs(immanant(Partition([1,1]), transformacion(#=u1*=#u2*u3)[[2,2], [1,2]]))^2"
   ]
  },
  {
   "cell_type": "code",
   "execution_count": 110,
   "metadata": {},
   "outputs": [
    {
     "data": {
      "text/latex": [
       "0 . 0 2 3 5 6 6 9 5 3 1 8 6 5 8 2 6 5 6 9 8 7 3 6 1 2 7 9 9 1 2 4 1 2 1 5 0 0 6 2 3 9 2 5 0 4 9 0 1 1 8 7 2 5 9 7 3 5 0 6 7 5 2 7 2 3 9 7 4 3 0 4 7 1 0 2 3 3 3 0 1"
      ],
      "text/plain": [
       "0.02356695318658265698736127991241215006239250490118725973506752723974304710233301"
      ]
     },
     "execution_count": 110,
     "metadata": {},
     "output_type": "execute_result"
    }
   ],
   "source": [
    "0.5*abs(immanant(Partition([2]), (#=u1*=#u2*u3)[[2,2], [1,2]]))^2"
   ]
  },
  {
   "cell_type": "code",
   "execution_count": 112,
   "metadata": {},
   "outputs": [
    {
     "data": {
      "text/plain": [
       "3×3 Array{Complex{Float64},2}:\n",
       "  0.10388+0.396679im  -0.208188-0.163514im    0.308595-0.816422im\n",
       " 0.857558+0.310563im  -0.113652+0.0353354im  -0.223453-0.322566im\n",
       "      0.0+0.0im        0.757878+0.584274im   -0.100171+0.272416im"
      ]
     },
     "execution_count": 112,
     "metadata": {},
     "output_type": "execute_result"
    }
   ],
   "source": [
    "transformacion(#=u1*=#u2*u3)#[[2,2], [1,2]]"
   ]
  },
  {
   "cell_type": "code",
   "execution_count": 113,
   "metadata": {},
   "outputs": [
    {
     "data": {
      "text/plain": [
       "2×2 Array{Complex{Float64},2}:\n",
       " 0.857558+0.310563im  -0.113652+0.0353354im\n",
       " 0.857558+0.310563im  -0.113652+0.0353354im"
      ]
     },
     "execution_count": 113,
     "metadata": {},
     "output_type": "execute_result"
    }
   ],
   "source": [
    "transformacion(#=u1*=#u2*u3)[[2,2], [1,2]]"
   ]
  },
  {
   "cell_type": "code",
   "execution_count": 105,
   "metadata": {},
   "outputs": [
    {
     "data": {
      "text/plain": [
       "3×3 Array{Complex{Float64},2}:\n",
       "   0.10388+0.396679im  -0.208188-0.163514im    0.308595-0.816422im\n",
       " -0.857558-0.310563im  -0.113652+0.0353354im  -0.223453-0.322566im\n",
       "       0.0+0.0im       -0.757878-0.584274im   -0.100171+0.272416im"
      ]
     },
     "execution_count": 105,
     "metadata": {},
     "output_type": "execute_result"
    }
   ],
   "source": [
    "u2*u3"
   ]
  },
  {
   "cell_type": "code",
   "execution_count": 106,
   "metadata": {},
   "outputs": [
    {
     "data": {
      "text/plain": [
       "3×3 Array{Complex{Float64},2}:\n",
       "  0.10388+0.396679im  -0.208188-0.163514im    0.308595-0.816422im\n",
       " 0.857558+0.310563im  -0.113652+0.0353354im  -0.223453-0.322566im\n",
       "      0.0+0.0im        0.757878+0.584274im   -0.100171+0.272416im"
      ]
     },
     "execution_count": 106,
     "metadata": {},
     "output_type": "execute_result"
    }
   ],
   "source": [
    "transformacion(u2*u3)"
   ]
  },
  {
   "cell_type": "markdown",
   "metadata": {},
   "source": []
  },
  {
   "cell_type": "code",
   "execution_count": 86,
   "metadata": {},
   "outputs": [
    {
     "data": {
      "text/latex": [
       "0 . 7 4 1 1 6 9 8 5 7 6 8 9 3 3 9 6 3 2 5 4 2 9 4 4 9 9 5 0 2 7 5 0 3 9 7 2 8 2 4 4 1 6 2 9 3 2 2 1 6 0 6 6 3 7 2 2 3 9 5 6 1 8 1 6 5 5 5 6 0 1 8 3 2 2 4 5 9 5 9"
      ],
      "text/plain": [
       "0.7411698576893396325429449950275039728244162932216066372239561816555601832245959"
      ]
     },
     "execution_count": 86,
     "metadata": {},
     "output_type": "execute_result"
    }
   ],
   "source": [
    "abs(immanant(Partition([2]), (u1*u2*u3)[[1,1], [1,2]]))^2+ abs(immanant(Partition([2]), (u1*u2*u3)[[2,2], [1,2]]))^2+ abs(immanant(Partition([2]), (u1*u2*u3)[[3,3], [1,2]]))^2"
   ]
  },
  {
   "cell_type": "code",
   "execution_count": 87,
   "metadata": {},
   "outputs": [
    {
     "data": {
      "text/latex": [
       "0 . 9 1 5 6 8 2 8 5 7 0 8 0 7 7 7 6 9 5 2 0 6 8 4 1 0 8 0 3 3 7 3 1 9 1 6 0 6 0 3 7 1 6 2 4 0 1 8 6 8 5 4 2 4 0 2 3 1 1 6 0 3 3 1 4 6 6 2 3 7 2 8 1 5 6 1 3 2 6 7"
      ],
      "text/plain": [
       "0.9156828570807776952068410803373191606037162401868542402311603314662372815613267"
      ]
     },
     "execution_count": 87,
     "metadata": {},
     "output_type": "execute_result"
    }
   ],
   "source": [
    "abs(immanant(Partition([2]), (#=u1*=#u2*u3)[[1,1], [1,2]]))^2+ abs(immanant(Partition([2]), (#=u1*=#u2*u3)[[2,2], [1,2]]))^2+ abs(immanant(Partition([2]), (#=u1*=#u2*u3)[[3,3], [1,2]]))^2"
   ]
  },
  {
   "cell_type": "code",
   "execution_count": 88,
   "metadata": {},
   "outputs": [
    {
     "data": {
      "text/latex": [
       "0 . 5 9 9 5 0 5 6 4 3 1 1 4 8 6 4 2 1 3 9 2 8 9 3 2 5 9 1 1 3 0 1 6 5 0 2 6 6 4 3 8 1 7 7 9 8 2 6 1 8 7 6 1 2 6 0 9 6 3 5 2 1 2 3 1 7 4 9 7 9 2 0 4 3 2 5 8 5 1 8"
      ],
      "text/plain": [
       "0.5995056431148642139289325911301650266438177982618761260963521231749792043258518"
      ]
     },
     "execution_count": 88,
     "metadata": {},
     "output_type": "execute_result"
    }
   ],
   "source": [
    "abs(immanant(Partition([2]), (u1*u2*u3)[[1,1], [1,2]]))^2+ 0.5*abs(immanant(Partition([2]), (u1*u2*u3)[[2,2], [1,2]]))^2+ 0.5*abs(immanant(Partition([2]), (u1*u2*u3)[[3,3], [1,2]]))^2"
   ]
  },
  {
   "cell_type": "code",
   "execution_count": 89,
   "metadata": {},
   "outputs": [
    {
     "data": {
      "text/latex": [
       "0 . 6 8 6 7 6 2 1 4 2 8 1 0 5 8 3 2 4 5 2 6 0 8 8 0 6 3 3 7 8 5 0 7 2 6 2 0 5 3 3 4 6 7 7 7 1 7 4 4 4 9 9 9 2 7 5 9 9 9 5 4 1 9 8 0 8 0 3 1 7 7 5 3 4 9 4 2 1 7 2"
      ],
      "text/plain": [
       "0.6867621428105832452608806337850726205334677717444999275999541980803177534942172"
      ]
     },
     "execution_count": 89,
     "metadata": {},
     "output_type": "execute_result"
    }
   ],
   "source": [
    "abs(immanant(Partition([2]), (#=u1*=#u2*u3)[[1,1], [1,2]]))^2+ 0.5*abs(immanant(Partition([2]), (#=u1*=#u2*u3)[[2,2], [1,2]]))^2+ 0.5*abs(immanant(Partition([2]), (#=u1*=#u2*u3)[[3,3], [1,2]]))^2"
   ]
  },
  {
   "cell_type": "markdown",
   "metadata": {},
   "source": [
    "ding ding ding !"
   ]
  },
  {
   "cell_type": "code",
   "execution_count": 101,
   "metadata": {},
   "outputs": [
    {
     "data": {
      "text/latex": [
       "0 . 9 7 6 8 1 4 7 9 8 1 6 1 2 9 1 7 2 6 1 4 4 0 2 1 7 3 5 9 5 3 6 1 9 6 9 7 3 5 4 7 8 2 6 2 5 8 1 1 2 3 5 2 6 3 9 4 4 2 4 7 0 0 1 5 9 1 5 8 4 5 1 1 9 4 3 2 3 8 7"
      ],
      "text/plain": [
       "0.9768147981612917261440217359536196973547826258112352639442470015915845119432387"
      ]
     },
     "execution_count": 101,
     "metadata": {},
     "output_type": "execute_result"
    }
   ],
   "source": [
    "abs(immanant(Partition([2]), (u1*u2*u3)[[2,3], [1,2]]))^2+abs(immanant(Partition([2]), (u1*u2*u3)[[1,1], [1,2]]))^2+ abs(immanant(Partition([2]), (u1*u2*u3)[[2,2], [1,2]]))^2+ abs(immanant(Partition([2]), (u1*u2*u3)[[3,3], [1,2]]))^2"
   ]
  },
  {
   "cell_type": "code",
   "execution_count": 102,
   "metadata": {},
   "outputs": [
    {
     "data": {
      "text/latex": [
       "0 . 8 0 8 9 0 9 4 7 5 5 3 9 0 0 4 3 3 8 7 3 1 2 4 4 3 2 8 3 6 4 6 6 2 5 7 4 4 5 7 9 6 7 1 8 4 1 9 1 6 3 9 2 9 9 4 5 0 7 7 0 5 2 5 6 5 5 3 2 0 7 7 8 8 0 4 5 2 4"
      ],
      "text/plain": [
       "0.808909475539004338731244328364662574457967184191639299450770525655320778804524"
      ]
     },
     "execution_count": 102,
     "metadata": {},
     "output_type": "execute_result"
    }
   ],
   "source": [
    "abs(immanant(Partition([2]), (u1*u2*u3)[[2,3], [1,2]]))^2+0.5*(abs(immanant(Partition([2]), (u1*u2*u3)[[1,1], [1,2]]))^2+ abs(immanant(Partition([2]), (u1*u2*u3)[[2,2], [1,2]]))^2+ abs(immanant(Partition([2]), (u1*u2*u3)[[3,3], [1,2]]))^2)"
   ]
  },
  {
   "cell_type": "code",
   "execution_count": 121,
   "metadata": {},
   "outputs": [
    {
     "data": {
      "text/latex": [
       "0 . 8 0 8 9 0 9 4 7 5 5 3 9 0 0 4 2 4 2 9 0 5 6 4 9 1 0 5 8 4 1 2 9 4 1 7 6 4 0 8 1 0 0 0 9 8 9 1 0 7 8 1 7 8 8 2 2 4 2 0 4 8 4 2 1 0 1 3 1 1 6 0 3 3 1 4 7 2 2 8"
      ],
      "text/plain": [
       "0.8089094755390042429056491058412941764081000989107817882242048421013116033147228"
      ]
     },
     "execution_count": 121,
     "metadata": {},
     "output_type": "execute_result"
    }
   ],
   "source": [
    "abs(immanant(Partition([2]), (u2*u3)[[2,3], [1,2]]))^2+0.5*(abs(immanant(Partition([2]), (u2*u3)[[1,1], [1,2]]))^2+ abs(immanant(Partition([2]), (u2*u3)[[2,2], [1,2]]))^2+ abs(immanant(Partition([2]), (u2*u3)[[3,3], [1,2]]))^2)"
   ]
  },
  {
   "cell_type": "code",
   "execution_count": 122,
   "metadata": {},
   "outputs": [
    {
     "data": {
      "text/latex": [
       "0 . 8 0 8 9 0 9 4 7 5 5 3 9 0 0 4 2 4 2 9 0 5 6 4 9 1 0 5 8 4 1 2 9 4 1 7 6 4 0 8 1 0 0 0 9 8 9 1 0 7 8 1 7 8 8 2 2 4 2 0 4 8 4 2 1 0 1 3 1 1 6 0 3 3 1 4 7 2 2 8"
      ],
      "text/plain": [
       "0.8089094755390042429056491058412941764081000989107817882242048421013116033147228"
      ]
     },
     "execution_count": 122,
     "metadata": {},
     "output_type": "execute_result"
    }
   ],
   "source": [
    "abs(immanant(Partition([1,1]), transformacion((u2*u3)[[2,3], [1,2]])))^2 +0.5*(abs(immanant(Partition([1,1]), transformacion((u2*u3)[[1,1], [1,2]])))^2 + abs(immanant(Partition([1,1]), transformacion((u2*u3)[[2,2], [1,2]])))^2 + abs(immanant(Partition([1,1]), transformacion((u2*u3)[[3,3], [1,2]])))^2)"
   ]
  },
  {
   "cell_type": "code",
   "execution_count": null,
   "metadata": {},
   "outputs": [],
   "source": []
  }
 ],
 "metadata": {
  "kernelspec": {
   "display_name": "Julia 1.5.2",
   "language": "julia",
   "name": "julia-1.5"
  },
  "language_info": {
   "file_extension": ".jl",
   "mimetype": "application/julia",
   "name": "julia",
   "version": "1.5.2"
  }
 },
 "nbformat": 4,
 "nbformat_minor": 4
}
